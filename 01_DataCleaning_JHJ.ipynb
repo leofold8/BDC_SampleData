{
 "metadata": {
  "language_info": {
   "codemirror_mode": {
    "name": "ipython",
    "version": 3
   },
   "file_extension": ".py",
   "mimetype": "text/x-python",
   "name": "python",
   "nbconvert_exporter": "python",
   "pygments_lexer": "ipython3",
   "version": "3.7.4-final"
  },
  "orig_nbformat": 2,
  "kernelspec": {
   "name": "python_defaultSpec_1596693114438",
   "display_name": "Python 3.7.4 64-bit ('anaconda3': virtualenv)"
  }
 },
 "nbformat": 4,
 "nbformat_minor": 2,
 "cells": [
  {
   "cell_type": "code",
   "execution_count": 1,
   "metadata": {},
   "outputs": [],
   "source": [
    "import pandas as pd\n",
    "import numpy as np\n",
    "import os"
   ]
  },
  {
   "cell_type": "code",
   "execution_count": 2,
   "metadata": {},
   "outputs": [],
   "source": [
    "#run on 7/25/2020 data"
   ]
  },
  {
   "cell_type": "code",
   "execution_count": 3,
   "metadata": {},
   "outputs": [],
   "source": [
    "#loading channels sheet\n",
    "from os import listdir\n",
    "filepaths=[\"./channel/day=25/hour=17/\"+f for f in listdir(\"./channel/day=25/hour=17/\") if f.endswith('.csv')]\n",
    "rawchan=[]\n",
    "for filename in filepaths:\n",
    "    temp=pd.read_csv(filename, header=0, sep=\"|\")\n",
    "    rawchan.append(temp)\n",
    "df_channel=pd.concat(rawchan, axis=0, ignore_index=True)"
   ]
  },
  {
   "cell_type": "code",
   "execution_count": 4,
   "metadata": {
    "tags": []
   },
   "outputs": [
    {
     "output_type": "stream",
     "name": "stderr",
     "text": "b'Skipping line 18: expected 16 fields, saw 17\\n'\nb'Skipping line 86: expected 16 fields, saw 17\\n'\nb'Skipping line 294: expected 16 fields, saw 17\\n'\nb'Skipping line 191: expected 16 fields, saw 17\\n'\nb'Skipping line 206: expected 16 fields, saw 17\\n'\nb'Skipping line 23: expected 16 fields, saw 17\\n'\n"
    }
   ],
   "source": [
    "#loading video sheets\n",
    "rawvideo=[]\n",
    "filepaths=[\"./video/day=25/hour=17/\"+f for f in listdir(\"./video/day=25/hour=17/\") if f.endswith(\".csv\")]\n",
    "for filename in filepaths:\n",
    "    temp=pd.read_csv(filename, header=0, sep=\"|\", error_bad_lines=False)\n",
    "    rawvideo.append(temp)\n",
    "df_video=pd.concat(rawvideo, axis=0, ignore_index=True)"
   ]
  },
  {
   "cell_type": "code",
   "execution_count": 5,
   "metadata": {},
   "outputs": [
    {
     "output_type": "execute_result",
     "data": {
      "text/plain": "45463"
     },
     "metadata": {},
     "execution_count": 5
    }
   ],
   "source": [
    "df_video.id.duplicated().sum()"
   ]
  },
  {
   "cell_type": "code",
   "execution_count": 6,
   "metadata": {},
   "outputs": [
    {
     "output_type": "execute_result",
     "data": {
      "text/plain": "0    2645\nName: commentCount, dtype: int64"
     },
     "metadata": {},
     "execution_count": 6
    }
   ],
   "source": [
    "df_channel.commentCount.value_counts()"
   ]
  },
  {
   "cell_type": "code",
   "execution_count": 7,
   "metadata": {
    "tags": []
   },
   "outputs": [
    {
     "output_type": "stream",
     "name": "stdout",
     "text": "Index(['id', 'title', 'collectedTime', 'category', 'sub_category',\n       'description', 'publishedAt', 'thumbnailUrl', 'country', 'viewCount',\n       'commentCount', 'subscriberCount', 'hiddenSubscriberCount',\n       'videoCount', 'keywords', 'unsubscribedTrailer'],\n      dtype='object')\nIndex(['id', 'collectedTime', 'publishedAt', 'channelId', 'title',\n       'description', 'thumbnailUrl', 'tags', 'category', 'defaultLanguage',\n       'duration', 'caption', 'viewCount', 'likeCount', 'dislikeCount',\n       'commentCount'],\n      dtype='object')\n"
    }
   ],
   "source": [
    "#check variables\n",
    "print(df_channel.columns)\n",
    "print(df_video.columns)"
   ]
  },
  {
   "cell_type": "code",
   "execution_count": 8,
   "metadata": {},
   "outputs": [],
   "source": [
    "#change id@channel to channelId for ease of use\n",
    "df_channel=df_channel.rename(columns={\"id\":\"channelId\"})"
   ]
  },
  {
   "cell_type": "code",
   "execution_count": 9,
   "metadata": {},
   "outputs": [],
   "source": [
    "#date and time conversion\n",
    "df_channel[\"collectedTime\"]=pd.to_datetime(df_channel.collectedTime)\n",
    "df_channel[\"publishedAt\"]=pd.to_datetime(df_channel.publishedAt)\n",
    "df_video[\"collectedTime\"]=pd.to_datetime(df_video.collectedTime)\n",
    "df_video[\"publishedAt\"]=pd.to_datetime(df_video.publishedAt)"
   ]
  },
  {
   "cell_type": "code",
   "execution_count": 10,
   "metadata": {},
   "outputs": [
    {
     "output_type": "execute_result",
     "data": {
      "text/plain": "                    channelId  likeCount  dislikeCount\n0    UC-8R1d-KQrZy_7-EvE_w9Nw      237.0          12.0\n1    UC-9nTjw_qHCA693UA3jyDWw   314351.0        2162.0\n2    UC-9oz6OofrZnaOUQ48-LavA   370668.0       20715.0\n3    UC-AuHoBXFe2e6YQ3fcA2zFA      472.0          10.0\n4    UC-BqPABOl7c7rR5EoJJZ0UA   951905.0       10621.0\n..                        ...        ...           ...\n976  UCzXNBo1PYNsqSrN19XK3hPw     4200.0         529.0\n977  UCzacSE_ExLj6L5rXx2CakjQ   812979.0       12617.0\n978  UCzdPXIkTEXBkbx9cQ9aYDJA     6508.0         486.0\n979  UCzmGNr7bHavW8SUg1n4KIMQ       29.0           8.0\n980  UCzte3fAK5m-9KswRH3SPNuA     4806.0         264.0\n\n[981 rows x 3 columns]",
      "text/html": "<div>\n<style scoped>\n    .dataframe tbody tr th:only-of-type {\n        vertical-align: middle;\n    }\n\n    .dataframe tbody tr th {\n        vertical-align: top;\n    }\n\n    .dataframe thead th {\n        text-align: right;\n    }\n</style>\n<table border=\"1\" class=\"dataframe\">\n  <thead>\n    <tr style=\"text-align: right;\">\n      <th></th>\n      <th>channelId</th>\n      <th>likeCount</th>\n      <th>dislikeCount</th>\n    </tr>\n  </thead>\n  <tbody>\n    <tr>\n      <th>0</th>\n      <td>UC-8R1d-KQrZy_7-EvE_w9Nw</td>\n      <td>237.0</td>\n      <td>12.0</td>\n    </tr>\n    <tr>\n      <th>1</th>\n      <td>UC-9nTjw_qHCA693UA3jyDWw</td>\n      <td>314351.0</td>\n      <td>2162.0</td>\n    </tr>\n    <tr>\n      <th>2</th>\n      <td>UC-9oz6OofrZnaOUQ48-LavA</td>\n      <td>370668.0</td>\n      <td>20715.0</td>\n    </tr>\n    <tr>\n      <th>3</th>\n      <td>UC-AuHoBXFe2e6YQ3fcA2zFA</td>\n      <td>472.0</td>\n      <td>10.0</td>\n    </tr>\n    <tr>\n      <th>4</th>\n      <td>UC-BqPABOl7c7rR5EoJJZ0UA</td>\n      <td>951905.0</td>\n      <td>10621.0</td>\n    </tr>\n    <tr>\n      <th>...</th>\n      <td>...</td>\n      <td>...</td>\n      <td>...</td>\n    </tr>\n    <tr>\n      <th>976</th>\n      <td>UCzXNBo1PYNsqSrN19XK3hPw</td>\n      <td>4200.0</td>\n      <td>529.0</td>\n    </tr>\n    <tr>\n      <th>977</th>\n      <td>UCzacSE_ExLj6L5rXx2CakjQ</td>\n      <td>812979.0</td>\n      <td>12617.0</td>\n    </tr>\n    <tr>\n      <th>978</th>\n      <td>UCzdPXIkTEXBkbx9cQ9aYDJA</td>\n      <td>6508.0</td>\n      <td>486.0</td>\n    </tr>\n    <tr>\n      <th>979</th>\n      <td>UCzmGNr7bHavW8SUg1n4KIMQ</td>\n      <td>29.0</td>\n      <td>8.0</td>\n    </tr>\n    <tr>\n      <th>980</th>\n      <td>UCzte3fAK5m-9KswRH3SPNuA</td>\n      <td>4806.0</td>\n      <td>264.0</td>\n    </tr>\n  </tbody>\n</table>\n<p>981 rows × 3 columns</p>\n</div>"
     },
     "metadata": {},
     "execution_count": 10
    }
   ],
   "source": [
    "#sum total like and dislike from each videos\n",
    "like=df_video.groupby([\"channelId\"]).sum()#get sum\n",
    "like=like.drop([\"viewCount\", \"commentCount\"], axis=1).reset_index()#drop pointless columns and reset index\n",
    "like"
   ]
  },
  {
   "cell_type": "code",
   "execution_count": 11,
   "metadata": {},
   "outputs": [],
   "source": [
    "#merge calculated like/dislikes into chanel data set\n",
    "df_channel=pd.merge(df_channel, like, how=\"outer\")"
   ]
  },
  {
   "cell_type": "code",
   "execution_count": 12,
   "metadata": {},
   "outputs": [
    {
     "output_type": "execute_result",
     "data": {
      "text/plain": "                     channelId            ch_title ch_category ch_sub_category\n0     UCkinYTS9IHqOEwR1Sze2JTw              SBS 뉴스           T             TSB\n1     UC6erIDuvbOaAO-OT5rB2Xew           SBS Drama           T             TSB\n2     UCt51IEo3ZxxOysVAG_ylR6w                찬이TV           M             MSB\n3     UCmJ4DkPFPzjR2TkJ7lXSQWw            YoonRoot           M             MSB\n4     UCPITXstDqqLYbBUiAVqYjfg               메이비TV           M             MSB\n...                        ...                 ...         ...             ...\n2640  UCdS79cFd4MdxlgLHA-YYZ_A          윤아라YoonAra           M             MDT\n2641  UCftAJ5MwttYA4kLXpN87BDg            아리나arina           M             MDT\n2642  UCMtfNzI-KhpZter1cHmZC6A       써니튜브SUNNYTUBE           M             MDT\n2643  UCbHyZneFBvQFBGde5YzAh-g  소확행 - 소비는 확실한 행복 -           M             KDC\n2644  UCBkvvAAtlm6S76cglyb0Djw                양지식당           M             KSD\n\n[2645 rows x 4 columns]",
      "text/html": "<div>\n<style scoped>\n    .dataframe tbody tr th:only-of-type {\n        vertical-align: middle;\n    }\n\n    .dataframe tbody tr th {\n        vertical-align: top;\n    }\n\n    .dataframe thead th {\n        text-align: right;\n    }\n</style>\n<table border=\"1\" class=\"dataframe\">\n  <thead>\n    <tr style=\"text-align: right;\">\n      <th></th>\n      <th>channelId</th>\n      <th>ch_title</th>\n      <th>ch_category</th>\n      <th>ch_sub_category</th>\n    </tr>\n  </thead>\n  <tbody>\n    <tr>\n      <th>0</th>\n      <td>UCkinYTS9IHqOEwR1Sze2JTw</td>\n      <td>SBS 뉴스</td>\n      <td>T</td>\n      <td>TSB</td>\n    </tr>\n    <tr>\n      <th>1</th>\n      <td>UC6erIDuvbOaAO-OT5rB2Xew</td>\n      <td>SBS Drama</td>\n      <td>T</td>\n      <td>TSB</td>\n    </tr>\n    <tr>\n      <th>2</th>\n      <td>UCt51IEo3ZxxOysVAG_ylR6w</td>\n      <td>찬이TV</td>\n      <td>M</td>\n      <td>MSB</td>\n    </tr>\n    <tr>\n      <th>3</th>\n      <td>UCmJ4DkPFPzjR2TkJ7lXSQWw</td>\n      <td>YoonRoot</td>\n      <td>M</td>\n      <td>MSB</td>\n    </tr>\n    <tr>\n      <th>4</th>\n      <td>UCPITXstDqqLYbBUiAVqYjfg</td>\n      <td>메이비TV</td>\n      <td>M</td>\n      <td>MSB</td>\n    </tr>\n    <tr>\n      <th>...</th>\n      <td>...</td>\n      <td>...</td>\n      <td>...</td>\n      <td>...</td>\n    </tr>\n    <tr>\n      <th>2640</th>\n      <td>UCdS79cFd4MdxlgLHA-YYZ_A</td>\n      <td>윤아라YoonAra</td>\n      <td>M</td>\n      <td>MDT</td>\n    </tr>\n    <tr>\n      <th>2641</th>\n      <td>UCftAJ5MwttYA4kLXpN87BDg</td>\n      <td>아리나arina</td>\n      <td>M</td>\n      <td>MDT</td>\n    </tr>\n    <tr>\n      <th>2642</th>\n      <td>UCMtfNzI-KhpZter1cHmZC6A</td>\n      <td>써니튜브SUNNYTUBE</td>\n      <td>M</td>\n      <td>MDT</td>\n    </tr>\n    <tr>\n      <th>2643</th>\n      <td>UCbHyZneFBvQFBGde5YzAh-g</td>\n      <td>소확행 - 소비는 확실한 행복 -</td>\n      <td>M</td>\n      <td>KDC</td>\n    </tr>\n    <tr>\n      <th>2644</th>\n      <td>UCBkvvAAtlm6S76cglyb0Djw</td>\n      <td>양지식당</td>\n      <td>M</td>\n      <td>KSD</td>\n    </tr>\n  </tbody>\n</table>\n<p>2645 rows × 4 columns</p>\n</div>"
     },
     "metadata": {},
     "execution_count": 12
    }
   ],
   "source": [
    "#title and category @ channel\n",
    "chtovid=df_channel[[\"channelId\", \"title\", \"category\", \"sub_category\"]]#creating sub df\n",
    "chtovid=chtovid.rename(columns={\"channelId\":\"channelId\", \"title\":\"ch_title\", \"category\":\"ch_category\", \"sub_category\":\"ch_sub_category\"})\n",
    "chtovid"
   ]
  },
  {
   "cell_type": "code",
   "execution_count": 13,
   "metadata": {},
   "outputs": [],
   "source": [
    "#merge above title and category to video\n",
    "df_video=pd.merge(df_video, chtovid, how=\"inner\")"
   ]
  },
  {
   "cell_type": "code",
   "execution_count": 14,
   "metadata": {},
   "outputs": [
    {
     "output_type": "execute_result",
     "data": {
      "text/plain": "            id       collectedTime               publishedAt  \\\n0  EPGtZlCxs14 2020-07-25 23:24:49 2020-01-16 09:41:20+00:00   \n1  JA8vgEBWWuY 2020-07-25 23:24:49 2019-12-02 06:01:01+00:00   \n2  3_30R9TMNiI 2020-07-25 23:24:49 2019-11-27 04:21:53+00:00   \n3  0C5r3mYM95o 2020-07-25 23:24:49 2019-09-30 06:41:53+00:00   \n4  -CW95pAEf-U 2020-07-25 23:24:49 2018-09-20 11:10:28+00:00   \n\n                  channelId                      title  \\\n0  UCzmGNr7bHavW8SUg1n4KIMQ         청송사랑화폐 홍보영상(2019년)   \n1  UCzmGNr7bHavW8SUg1n4KIMQ   청송군 홍보영상_산소카페 청송군(2019년)   \n2  UCzmGNr7bHavW8SUg1n4KIMQ  청송 유네스코세계지질공원 홍보 영상(2019)   \n3  UCzmGNr7bHavW8SUg1n4KIMQ   2019 청송 아이스클라이밍 월드컵 홍보영상   \n4  UCzmGNr7bHavW8SUg1n4KIMQ        윤경희 청송군수 2018 추석 인사   \n\n                                         description  \\\n0  주왕산, 온천, 약수탕, 청송꽃돌 등 온갖 자연의 신비가 어우러진 청송 국가지질공원...   \n1  주왕산, 온천, 약수탕, 청송꽃돌 등 온갖 자연의 신비가 어우러진 청송 국가지질공원...   \n2  주왕산, 온천, 약수탕, 청송꽃돌 등 온갖 자연의 신비가 어우러진 청송 국가지질공원...   \n3  주왕산, 온천, 약수탕, 청송꽃돌 등 온갖 자연의 신비가 어우러진 청송 국가지질공원...   \n4  주왕산, 온천, 약수탕, 청송꽃돌 등 온갖 자연의 신비가 어우러진 청송 유네스코세계...   \n\n                                     thumbnailUrl  \\\n0  https://i.ytimg.com/vi/EPGtZlCxs14/default.jpg   \n1  https://i.ytimg.com/vi/JA8vgEBWWuY/default.jpg   \n2  https://i.ytimg.com/vi/3_30R9TMNiI/default.jpg   \n3  https://i.ytimg.com/vi/0C5r3mYM95o/default.jpg   \n4  https://i.ytimg.com/vi/-CW95pAEf-U/default.jpg   \n\n                                           tags category defaultLanguage  \\\n0                      청송사과주왕산주산지청송사과국가지질공원사과축제       19              ko   \n1                      청송사과주왕산주산지청송사과국가지질공원사과축제       19              ko   \n2                      청송사과주왕산주산지청송사과국가지질공원사과축제       19              ko   \n3                  청송사과주왕산주산지청송사과국가지질공원사과축제산소카페       19              ko   \n4  청송사과주왕산주산지청송사과유네스코세계지질공원사과축제국제슬로시티아이스클라이밍월드컵       19              ko   \n\n  duration caption  viewCount  likeCount  dislikeCount  commentCount ch_title  \\\n0  PT3M50S   False       73.0        2.0           0.0           NaN     청송군청   \n1  PT8M46S   False      238.0        5.0           0.0           NaN     청송군청   \n2  PT2M45S   False     2201.0        6.0           0.0           NaN     청송군청   \n3   PT1M3S   False       22.0        1.0           0.0           NaN     청송군청   \n4  PT1M28S   False       73.0        1.0           0.0           NaN     청송군청   \n\n  ch_category ch_sub_category    pubDate  \n0           P             PGB 2020-01-16  \n1           P             PGB 2019-12-02  \n2           P             PGB 2019-11-27  \n3           P             PGB 2019-09-30  \n4           P             PGB 2018-09-20  ",
      "text/html": "<div>\n<style scoped>\n    .dataframe tbody tr th:only-of-type {\n        vertical-align: middle;\n    }\n\n    .dataframe tbody tr th {\n        vertical-align: top;\n    }\n\n    .dataframe thead th {\n        text-align: right;\n    }\n</style>\n<table border=\"1\" class=\"dataframe\">\n  <thead>\n    <tr style=\"text-align: right;\">\n      <th></th>\n      <th>id</th>\n      <th>collectedTime</th>\n      <th>publishedAt</th>\n      <th>channelId</th>\n      <th>title</th>\n      <th>description</th>\n      <th>thumbnailUrl</th>\n      <th>tags</th>\n      <th>category</th>\n      <th>defaultLanguage</th>\n      <th>duration</th>\n      <th>caption</th>\n      <th>viewCount</th>\n      <th>likeCount</th>\n      <th>dislikeCount</th>\n      <th>commentCount</th>\n      <th>ch_title</th>\n      <th>ch_category</th>\n      <th>ch_sub_category</th>\n      <th>pubDate</th>\n    </tr>\n  </thead>\n  <tbody>\n    <tr>\n      <th>0</th>\n      <td>EPGtZlCxs14</td>\n      <td>2020-07-25 23:24:49</td>\n      <td>2020-01-16 09:41:20+00:00</td>\n      <td>UCzmGNr7bHavW8SUg1n4KIMQ</td>\n      <td>청송사랑화폐 홍보영상(2019년)</td>\n      <td>주왕산, 온천, 약수탕, 청송꽃돌 등 온갖 자연의 신비가 어우러진 청송 국가지질공원...</td>\n      <td>https://i.ytimg.com/vi/EPGtZlCxs14/default.jpg</td>\n      <td>청송사과주왕산주산지청송사과국가지질공원사과축제</td>\n      <td>19</td>\n      <td>ko</td>\n      <td>PT3M50S</td>\n      <td>False</td>\n      <td>73.0</td>\n      <td>2.0</td>\n      <td>0.0</td>\n      <td>NaN</td>\n      <td>청송군청</td>\n      <td>P</td>\n      <td>PGB</td>\n      <td>2020-01-16</td>\n    </tr>\n    <tr>\n      <th>1</th>\n      <td>JA8vgEBWWuY</td>\n      <td>2020-07-25 23:24:49</td>\n      <td>2019-12-02 06:01:01+00:00</td>\n      <td>UCzmGNr7bHavW8SUg1n4KIMQ</td>\n      <td>청송군 홍보영상_산소카페 청송군(2019년)</td>\n      <td>주왕산, 온천, 약수탕, 청송꽃돌 등 온갖 자연의 신비가 어우러진 청송 국가지질공원...</td>\n      <td>https://i.ytimg.com/vi/JA8vgEBWWuY/default.jpg</td>\n      <td>청송사과주왕산주산지청송사과국가지질공원사과축제</td>\n      <td>19</td>\n      <td>ko</td>\n      <td>PT8M46S</td>\n      <td>False</td>\n      <td>238.0</td>\n      <td>5.0</td>\n      <td>0.0</td>\n      <td>NaN</td>\n      <td>청송군청</td>\n      <td>P</td>\n      <td>PGB</td>\n      <td>2019-12-02</td>\n    </tr>\n    <tr>\n      <th>2</th>\n      <td>3_30R9TMNiI</td>\n      <td>2020-07-25 23:24:49</td>\n      <td>2019-11-27 04:21:53+00:00</td>\n      <td>UCzmGNr7bHavW8SUg1n4KIMQ</td>\n      <td>청송 유네스코세계지질공원 홍보 영상(2019)</td>\n      <td>주왕산, 온천, 약수탕, 청송꽃돌 등 온갖 자연의 신비가 어우러진 청송 국가지질공원...</td>\n      <td>https://i.ytimg.com/vi/3_30R9TMNiI/default.jpg</td>\n      <td>청송사과주왕산주산지청송사과국가지질공원사과축제</td>\n      <td>19</td>\n      <td>ko</td>\n      <td>PT2M45S</td>\n      <td>False</td>\n      <td>2201.0</td>\n      <td>6.0</td>\n      <td>0.0</td>\n      <td>NaN</td>\n      <td>청송군청</td>\n      <td>P</td>\n      <td>PGB</td>\n      <td>2019-11-27</td>\n    </tr>\n    <tr>\n      <th>3</th>\n      <td>0C5r3mYM95o</td>\n      <td>2020-07-25 23:24:49</td>\n      <td>2019-09-30 06:41:53+00:00</td>\n      <td>UCzmGNr7bHavW8SUg1n4KIMQ</td>\n      <td>2019 청송 아이스클라이밍 월드컵 홍보영상</td>\n      <td>주왕산, 온천, 약수탕, 청송꽃돌 등 온갖 자연의 신비가 어우러진 청송 국가지질공원...</td>\n      <td>https://i.ytimg.com/vi/0C5r3mYM95o/default.jpg</td>\n      <td>청송사과주왕산주산지청송사과국가지질공원사과축제산소카페</td>\n      <td>19</td>\n      <td>ko</td>\n      <td>PT1M3S</td>\n      <td>False</td>\n      <td>22.0</td>\n      <td>1.0</td>\n      <td>0.0</td>\n      <td>NaN</td>\n      <td>청송군청</td>\n      <td>P</td>\n      <td>PGB</td>\n      <td>2019-09-30</td>\n    </tr>\n    <tr>\n      <th>4</th>\n      <td>-CW95pAEf-U</td>\n      <td>2020-07-25 23:24:49</td>\n      <td>2018-09-20 11:10:28+00:00</td>\n      <td>UCzmGNr7bHavW8SUg1n4KIMQ</td>\n      <td>윤경희 청송군수 2018 추석 인사</td>\n      <td>주왕산, 온천, 약수탕, 청송꽃돌 등 온갖 자연의 신비가 어우러진 청송 유네스코세계...</td>\n      <td>https://i.ytimg.com/vi/-CW95pAEf-U/default.jpg</td>\n      <td>청송사과주왕산주산지청송사과유네스코세계지질공원사과축제국제슬로시티아이스클라이밍월드컵</td>\n      <td>19</td>\n      <td>ko</td>\n      <td>PT1M28S</td>\n      <td>False</td>\n      <td>73.0</td>\n      <td>1.0</td>\n      <td>0.0</td>\n      <td>NaN</td>\n      <td>청송군청</td>\n      <td>P</td>\n      <td>PGB</td>\n      <td>2018-09-20</td>\n    </tr>\n  </tbody>\n</table>\n</div>"
     },
     "metadata": {},
     "execution_count": 14
    }
   ],
   "source": [
    "#parse date out of publishedAt from df_video\n",
    "df_video[\"pubDate\"]=df_video.publishedAt.astype(str).str[:-15]\n",
    "df_video[\"pubDate\"]=pd.to_datetime(df_video.pubDate)\n",
    "df_video.head()"
   ]
  },
  {
   "cell_type": "code",
   "execution_count": 15,
   "metadata": {},
   "outputs": [
    {
     "output_type": "execute_result",
     "data": {
      "text/plain": "                     id       collectedTime               publishedAt  \\\npubDate                                                                 \n2020-05-01  0zUyANZKLQk 2020-07-25 22:42:52 2020-05-01 09:31:01+00:00   \n2020-05-01  c4b9R6w2AOQ 2020-07-25 20:29:14 2020-05-01 11:21:21+00:00   \n2020-05-01  eM2IWeECV2M 2020-07-25 22:37:57 2020-05-01 02:00:09+00:00   \n2020-05-01  VBW0WGKCi3Q 2020-07-25 20:29:14 2020-05-01 10:21:19+00:00   \n2020-05-01  6p2TBmngndI 2020-07-25 22:42:52 2020-05-01 01:59:51+00:00   \n...                 ...                 ...                       ...   \n2020-07-25  Txc_F6XlnSo 2020-07-25 17:48:28 2020-07-25 07:32:34+00:00   \n2020-07-25  JAy88PDxMIM 2020-07-25 20:37:02 2020-07-25 11:00:02+00:00   \n2020-07-25  1USyvLyja7Y 2020-07-25 17:48:28 2020-07-25 06:01:12+00:00   \n2020-07-25  Tg3OzrTamsg 2020-07-26 00:15:47 2020-07-25 08:00:05+00:00   \n2020-07-25  pnGQMGEnQWA 2020-07-26 00:18:30 2020-07-25 03:00:15+00:00   \n\n                           channelId  \\\npubDate                                \n2020-05-01  UCfWZnsdfiKvOyHDGfzMT3Cg   \n2020-05-01  UCeLPm9yH_a_QH8n6445G-Ow   \n2020-05-01  UCG5bAssl2H0wjLG4BEv5ScQ   \n2020-05-01  UCeLPm9yH_a_QH8n6445G-Ow   \n2020-05-01  UCfWZnsdfiKvOyHDGfzMT3Cg   \n...                              ...   \n2020-07-25  UCcQTRi69dsVYHN3exePtZ1A   \n2020-07-25  UCweOkPb1wVVH0Q0Tlj4a5Pw   \n2020-07-25  UCcQTRi69dsVYHN3exePtZ1A   \n2020-07-25  UC41Vyqs1wSY0FTMqDsLsELA   \n2020-07-25  UCwZTeeKyb1hT6sg8tfOaZiA   \n\n                                                        title  \\\npubDate                                                         \n2020-05-01     [어쩌다 하루] 청년들에게 따뜻한 위로가 되어주는 신부님의 김치찌개 20200501   \n2020-05-01  [K-Fancam] (여자)아이들 슈화 '사랑해(Luv U)' ((G)I-DLE S...   \n2020-05-01  [해를 품은 달] 14회 l “거짓이다” 한가인이 무녀임을 믿지 못하는 김수현 ＜드...   \n2020-05-01  [K-Fancam] 크래비티 태영 'Break all the Rules' (CRAV...   \n2020-05-01  [기분 좋은 날] 치매! 당신에게 일어날 수 있는 일, 치매 오기 특히 쉬운 사람은...   \n...                                                       ...   \n2020-07-25      [제보영상] 고양시 폐차장 큰불, 검은 연기 하늘 뒤덮어   KBS뉴스(News)   \n2020-07-25  [MV] 싹쓰리 (유두래곤, 린다G, 비룡) _ Beach Again(다시 여기 바닷가)   \n2020-07-25  [중앙방역대책본부] 코로나19 신규 확진자 113명…115일 만에 첫 세자리 - 7...   \n2020-07-25               [자이언트] 너네 엄마 이름이... 차수정이니?👓👓│Ep.50-2   \n2020-07-25  천하제일 모창대회! (라스에서 용트림하는 추성훈 창법ㅋㅋㅋㅋㅋㅋㅋㅋㅋ) ★임다★ [...   \n\n                                                  description  \\\npubDate                                                         \n2020-05-01  ★★★More ＂ordinaryday＂ clips are available★★★  ...   \n2020-05-01  #(G)I-DLE_SHUHUA  #Fancam  More from #KBSKPOP ...   \n2020-05-01  ★매주 목금 오전 11시에 만나요☆ 드라마에도 맛집이 있다! [드라맛집] #드라맛집...   \n2020-05-01  #CRAVITY_TAEYOUNG  #Fancam  More from #KBSKPOP...   \n2020-05-01  ★★★More 'Good Day' clips are available★★★  iMB...   \n...                                                       ...   \n2020-07-25  오늘(25일) 오전 11시 40분쯤 경기도 고양시 일산서구의 한 폐차장에서 불이 났...   \n2020-07-25  [MV] 싹쓰리 (유두래곤, 린다G, 비룡) _ Beach Again(다시 여기 바...   \n2020-07-25  이라크에서 귀국한 근로자들과 러시아 선원들의 잇단 코로나19 확진으로 115일 만에...   \n2020-07-25  ※ 방송정보  - 자이언트 49회  2010.11.01    출연 : 이덕화, 정보...   \n2020-07-25  [아프리카TV ★임다★]  BJ★임다★를 아프리카TV 생방송 ▶ https:goo....   \n\n                                              thumbnailUrl  \\\npubDate                                                      \n2020-05-01  https://i.ytimg.com/vi/0zUyANZKLQk/default.jpg   \n2020-05-01  https://i.ytimg.com/vi/c4b9R6w2AOQ/default.jpg   \n2020-05-01  https://i.ytimg.com/vi/eM2IWeECV2M/default.jpg   \n2020-05-01  https://i.ytimg.com/vi/VBW0WGKCi3Q/default.jpg   \n2020-05-01  https://i.ytimg.com/vi/6p2TBmngndI/default.jpg   \n...                                                    ...   \n2020-07-25  https://i.ytimg.com/vi/Txc_F6XlnSo/default.jpg   \n2020-07-25                                              24   \n2020-07-25  https://i.ytimg.com/vi/1USyvLyja7Y/default.jpg   \n2020-07-25  https://i.ytimg.com/vi/Tg3OzrTamsg/default.jpg   \n2020-07-25  https://i.ytimg.com/vi/pnGQMGEnQWA/default.jpg   \n\n                                                         tags category  \\\npubDate                                                                  \n2020-05-01              김치찌개신부신부님기부재능기부어쩌다 하루어쩌다하루어쩌다하루손정은송진우       24   \n2020-05-01  KBSKPOP뮤직KBSKPOPK-POP케이팝kpopKBSKpopk-choreoCho...       10   \n2020-05-01                     드라맛집해를품은달해를 품은 달훤연우양명한가인김수현정일우       24   \n2020-05-01  KBSKPOP뮤직KBSKPOPK-POP케이팝kpopKBSKpop음악choreogra...       10   \n2020-05-01                           치매치매 증상치매 원인고혈압당뇨기분 좋은 날       24   \n...                                                       ...      ...   \n2020-07-25                    일산폐차장화재인명피해고양시불소방당국119KBS뉴스제보영상       25   \n2020-07-25                                                 ko  PT4M21S   \n2020-07-25                코로나19코로나신규확진자전염러시아선원해외유입해외kbs뉴스현장영상       25   \n2020-07-25    SBS스트로레트로빽드빽능옛날 드라마자이언트이덕화정보석이범수박진희주상욱황정음박상민김서형       24   \n2020-07-25  임다아재개그웃긴영상레전드웃겨라아프리카tv모창대회모창릴레이모창성대모사성대모사레전드성대...       24   \n\n           defaultLanguage   duration caption  viewCount  likeCount  \\\npubDate                                                               \n2020-05-01              ko    PT3M59S   false       26.0        0.0   \n2020-05-01              ko    PT3M54S   False    18799.0     1203.0   \n2020-05-01              ko   PT15M21S   False    24866.0      186.0   \n2020-05-01              ko    PT3M41S   False     3393.0      391.0   \n2020-05-01              ko    PT3M22S   false       27.0        0.0   \n...                    ...        ...     ...        ...        ...   \n2020-07-25              ko     PT1M9S   False      190.0       15.0   \n2020-07-25           false      12439    1851       23.0      212.0   \n2020-07-25              ko   PT10M45S   False      466.0       32.0   \n2020-07-25              ko   PT13M38S   False     8471.0      127.0   \n2020-07-25              ko  PT1H1M47S   False    10632.0      344.0   \n\n            dislikeCount  commentCount            ch_title ch_category  \\\npubDate                                                                  \n2020-05-01           0.0           0.0             MBClife           T   \n2020-05-01          15.0          89.0            KBS Kpop           T   \n2020-05-01          11.0          17.0  옛드 : 옛날 드라마 [드라맛집]           T   \n2020-05-01           2.0          16.0            KBS Kpop           T   \n2020-05-01           0.0           0.0             MBClife           T   \n...                  ...           ...                 ...         ...   \n2020-07-25           1.0           4.0            KBS News           T   \n2020-07-25           NaN           NaN        1theK (원더케이)           M   \n2020-07-25           2.0          15.0            KBS News           T   \n2020-07-25           9.0          42.0     빽드 - SBS 옛날 드라마           T   \n2020-07-25          14.0           NaN                임다TV           M   \n\n           ch_sub_category  \npubDate                     \n2020-05-01             TMC  \n2020-05-01             TKB  \n2020-05-01             TMC  \n2020-05-01             TKB  \n2020-05-01             TMC  \n...                    ...  \n2020-07-25             TKB  \n2020-07-25             MSU  \n2020-07-25             TKB  \n2020-07-25             TSB  \n2020-07-25             MSB  \n\n[115319 rows x 19 columns]",
      "text/html": "<div>\n<style scoped>\n    .dataframe tbody tr th:only-of-type {\n        vertical-align: middle;\n    }\n\n    .dataframe tbody tr th {\n        vertical-align: top;\n    }\n\n    .dataframe thead th {\n        text-align: right;\n    }\n</style>\n<table border=\"1\" class=\"dataframe\">\n  <thead>\n    <tr style=\"text-align: right;\">\n      <th></th>\n      <th>id</th>\n      <th>collectedTime</th>\n      <th>publishedAt</th>\n      <th>channelId</th>\n      <th>title</th>\n      <th>description</th>\n      <th>thumbnailUrl</th>\n      <th>tags</th>\n      <th>category</th>\n      <th>defaultLanguage</th>\n      <th>duration</th>\n      <th>caption</th>\n      <th>viewCount</th>\n      <th>likeCount</th>\n      <th>dislikeCount</th>\n      <th>commentCount</th>\n      <th>ch_title</th>\n      <th>ch_category</th>\n      <th>ch_sub_category</th>\n    </tr>\n    <tr>\n      <th>pubDate</th>\n      <th></th>\n      <th></th>\n      <th></th>\n      <th></th>\n      <th></th>\n      <th></th>\n      <th></th>\n      <th></th>\n      <th></th>\n      <th></th>\n      <th></th>\n      <th></th>\n      <th></th>\n      <th></th>\n      <th></th>\n      <th></th>\n      <th></th>\n      <th></th>\n      <th></th>\n    </tr>\n  </thead>\n  <tbody>\n    <tr>\n      <th>2020-05-01</th>\n      <td>0zUyANZKLQk</td>\n      <td>2020-07-25 22:42:52</td>\n      <td>2020-05-01 09:31:01+00:00</td>\n      <td>UCfWZnsdfiKvOyHDGfzMT3Cg</td>\n      <td>[어쩌다 하루] 청년들에게 따뜻한 위로가 되어주는 신부님의 김치찌개 20200501</td>\n      <td>★★★More ＂ordinaryday＂ clips are available★★★  ...</td>\n      <td>https://i.ytimg.com/vi/0zUyANZKLQk/default.jpg</td>\n      <td>김치찌개신부신부님기부재능기부어쩌다 하루어쩌다하루어쩌다하루손정은송진우</td>\n      <td>24</td>\n      <td>ko</td>\n      <td>PT3M59S</td>\n      <td>false</td>\n      <td>26.0</td>\n      <td>0.0</td>\n      <td>0.0</td>\n      <td>0.0</td>\n      <td>MBClife</td>\n      <td>T</td>\n      <td>TMC</td>\n    </tr>\n    <tr>\n      <th>2020-05-01</th>\n      <td>c4b9R6w2AOQ</td>\n      <td>2020-07-25 20:29:14</td>\n      <td>2020-05-01 11:21:21+00:00</td>\n      <td>UCeLPm9yH_a_QH8n6445G-Ow</td>\n      <td>[K-Fancam] (여자)아이들 슈화 '사랑해(Luv U)' ((G)I-DLE S...</td>\n      <td>#(G)I-DLE_SHUHUA  #Fancam  More from #KBSKPOP ...</td>\n      <td>https://i.ytimg.com/vi/c4b9R6w2AOQ/default.jpg</td>\n      <td>KBSKPOP뮤직KBSKPOPK-POP케이팝kpopKBSKpopk-choreoCho...</td>\n      <td>10</td>\n      <td>ko</td>\n      <td>PT3M54S</td>\n      <td>False</td>\n      <td>18799.0</td>\n      <td>1203.0</td>\n      <td>15.0</td>\n      <td>89.0</td>\n      <td>KBS Kpop</td>\n      <td>T</td>\n      <td>TKB</td>\n    </tr>\n    <tr>\n      <th>2020-05-01</th>\n      <td>eM2IWeECV2M</td>\n      <td>2020-07-25 22:37:57</td>\n      <td>2020-05-01 02:00:09+00:00</td>\n      <td>UCG5bAssl2H0wjLG4BEv5ScQ</td>\n      <td>[해를 품은 달] 14회 l “거짓이다” 한가인이 무녀임을 믿지 못하는 김수현 ＜드...</td>\n      <td>★매주 목금 오전 11시에 만나요☆ 드라마에도 맛집이 있다! [드라맛집] #드라맛집...</td>\n      <td>https://i.ytimg.com/vi/eM2IWeECV2M/default.jpg</td>\n      <td>드라맛집해를품은달해를 품은 달훤연우양명한가인김수현정일우</td>\n      <td>24</td>\n      <td>ko</td>\n      <td>PT15M21S</td>\n      <td>False</td>\n      <td>24866.0</td>\n      <td>186.0</td>\n      <td>11.0</td>\n      <td>17.0</td>\n      <td>옛드 : 옛날 드라마 [드라맛집]</td>\n      <td>T</td>\n      <td>TMC</td>\n    </tr>\n    <tr>\n      <th>2020-05-01</th>\n      <td>VBW0WGKCi3Q</td>\n      <td>2020-07-25 20:29:14</td>\n      <td>2020-05-01 10:21:19+00:00</td>\n      <td>UCeLPm9yH_a_QH8n6445G-Ow</td>\n      <td>[K-Fancam] 크래비티 태영 'Break all the Rules' (CRAV...</td>\n      <td>#CRAVITY_TAEYOUNG  #Fancam  More from #KBSKPOP...</td>\n      <td>https://i.ytimg.com/vi/VBW0WGKCi3Q/default.jpg</td>\n      <td>KBSKPOP뮤직KBSKPOPK-POP케이팝kpopKBSKpop음악choreogra...</td>\n      <td>10</td>\n      <td>ko</td>\n      <td>PT3M41S</td>\n      <td>False</td>\n      <td>3393.0</td>\n      <td>391.0</td>\n      <td>2.0</td>\n      <td>16.0</td>\n      <td>KBS Kpop</td>\n      <td>T</td>\n      <td>TKB</td>\n    </tr>\n    <tr>\n      <th>2020-05-01</th>\n      <td>6p2TBmngndI</td>\n      <td>2020-07-25 22:42:52</td>\n      <td>2020-05-01 01:59:51+00:00</td>\n      <td>UCfWZnsdfiKvOyHDGfzMT3Cg</td>\n      <td>[기분 좋은 날] 치매! 당신에게 일어날 수 있는 일, 치매 오기 특히 쉬운 사람은...</td>\n      <td>★★★More 'Good Day' clips are available★★★  iMB...</td>\n      <td>https://i.ytimg.com/vi/6p2TBmngndI/default.jpg</td>\n      <td>치매치매 증상치매 원인고혈압당뇨기분 좋은 날</td>\n      <td>24</td>\n      <td>ko</td>\n      <td>PT3M22S</td>\n      <td>false</td>\n      <td>27.0</td>\n      <td>0.0</td>\n      <td>0.0</td>\n      <td>0.0</td>\n      <td>MBClife</td>\n      <td>T</td>\n      <td>TMC</td>\n    </tr>\n    <tr>\n      <th>...</th>\n      <td>...</td>\n      <td>...</td>\n      <td>...</td>\n      <td>...</td>\n      <td>...</td>\n      <td>...</td>\n      <td>...</td>\n      <td>...</td>\n      <td>...</td>\n      <td>...</td>\n      <td>...</td>\n      <td>...</td>\n      <td>...</td>\n      <td>...</td>\n      <td>...</td>\n      <td>...</td>\n      <td>...</td>\n      <td>...</td>\n      <td>...</td>\n    </tr>\n    <tr>\n      <th>2020-07-25</th>\n      <td>Txc_F6XlnSo</td>\n      <td>2020-07-25 17:48:28</td>\n      <td>2020-07-25 07:32:34+00:00</td>\n      <td>UCcQTRi69dsVYHN3exePtZ1A</td>\n      <td>[제보영상] 고양시 폐차장 큰불, 검은 연기 하늘 뒤덮어   KBS뉴스(News)</td>\n      <td>오늘(25일) 오전 11시 40분쯤 경기도 고양시 일산서구의 한 폐차장에서 불이 났...</td>\n      <td>https://i.ytimg.com/vi/Txc_F6XlnSo/default.jpg</td>\n      <td>일산폐차장화재인명피해고양시불소방당국119KBS뉴스제보영상</td>\n      <td>25</td>\n      <td>ko</td>\n      <td>PT1M9S</td>\n      <td>False</td>\n      <td>190.0</td>\n      <td>15.0</td>\n      <td>1.0</td>\n      <td>4.0</td>\n      <td>KBS News</td>\n      <td>T</td>\n      <td>TKB</td>\n    </tr>\n    <tr>\n      <th>2020-07-25</th>\n      <td>JAy88PDxMIM</td>\n      <td>2020-07-25 20:37:02</td>\n      <td>2020-07-25 11:00:02+00:00</td>\n      <td>UCweOkPb1wVVH0Q0Tlj4a5Pw</td>\n      <td>[MV] 싹쓰리 (유두래곤, 린다G, 비룡) _ Beach Again(다시 여기 바닷가)</td>\n      <td>[MV] 싹쓰리 (유두래곤, 린다G, 비룡) _ Beach Again(다시 여기 바...</td>\n      <td>24</td>\n      <td>ko</td>\n      <td>PT4M21S</td>\n      <td>false</td>\n      <td>12439</td>\n      <td>1851</td>\n      <td>23.0</td>\n      <td>212.0</td>\n      <td>NaN</td>\n      <td>NaN</td>\n      <td>1theK (원더케이)</td>\n      <td>M</td>\n      <td>MSU</td>\n    </tr>\n    <tr>\n      <th>2020-07-25</th>\n      <td>1USyvLyja7Y</td>\n      <td>2020-07-25 17:48:28</td>\n      <td>2020-07-25 06:01:12+00:00</td>\n      <td>UCcQTRi69dsVYHN3exePtZ1A</td>\n      <td>[중앙방역대책본부] 코로나19 신규 확진자 113명…115일 만에 첫 세자리 - 7...</td>\n      <td>이라크에서 귀국한 근로자들과 러시아 선원들의 잇단 코로나19 확진으로 115일 만에...</td>\n      <td>https://i.ytimg.com/vi/1USyvLyja7Y/default.jpg</td>\n      <td>코로나19코로나신규확진자전염러시아선원해외유입해외kbs뉴스현장영상</td>\n      <td>25</td>\n      <td>ko</td>\n      <td>PT10M45S</td>\n      <td>False</td>\n      <td>466.0</td>\n      <td>32.0</td>\n      <td>2.0</td>\n      <td>15.0</td>\n      <td>KBS News</td>\n      <td>T</td>\n      <td>TKB</td>\n    </tr>\n    <tr>\n      <th>2020-07-25</th>\n      <td>Tg3OzrTamsg</td>\n      <td>2020-07-26 00:15:47</td>\n      <td>2020-07-25 08:00:05+00:00</td>\n      <td>UC41Vyqs1wSY0FTMqDsLsELA</td>\n      <td>[자이언트] 너네 엄마 이름이... 차수정이니?👓👓│Ep.50-2</td>\n      <td>※ 방송정보  - 자이언트 49회  2010.11.01    출연 : 이덕화, 정보...</td>\n      <td>https://i.ytimg.com/vi/Tg3OzrTamsg/default.jpg</td>\n      <td>SBS스트로레트로빽드빽능옛날 드라마자이언트이덕화정보석이범수박진희주상욱황정음박상민김서형</td>\n      <td>24</td>\n      <td>ko</td>\n      <td>PT13M38S</td>\n      <td>False</td>\n      <td>8471.0</td>\n      <td>127.0</td>\n      <td>9.0</td>\n      <td>42.0</td>\n      <td>빽드 - SBS 옛날 드라마</td>\n      <td>T</td>\n      <td>TSB</td>\n    </tr>\n    <tr>\n      <th>2020-07-25</th>\n      <td>pnGQMGEnQWA</td>\n      <td>2020-07-26 00:18:30</td>\n      <td>2020-07-25 03:00:15+00:00</td>\n      <td>UCwZTeeKyb1hT6sg8tfOaZiA</td>\n      <td>천하제일 모창대회! (라스에서 용트림하는 추성훈 창법ㅋㅋㅋㅋㅋㅋㅋㅋㅋ) ★임다★ [...</td>\n      <td>[아프리카TV ★임다★]  BJ★임다★를 아프리카TV 생방송 ▶ https:goo....</td>\n      <td>https://i.ytimg.com/vi/pnGQMGEnQWA/default.jpg</td>\n      <td>임다아재개그웃긴영상레전드웃겨라아프리카tv모창대회모창릴레이모창성대모사성대모사레전드성대...</td>\n      <td>24</td>\n      <td>ko</td>\n      <td>PT1H1M47S</td>\n      <td>False</td>\n      <td>10632.0</td>\n      <td>344.0</td>\n      <td>14.0</td>\n      <td>NaN</td>\n      <td>임다TV</td>\n      <td>M</td>\n      <td>MSB</td>\n    </tr>\n  </tbody>\n</table>\n<p>115319 rows × 19 columns</p>\n</div>"
     },
     "metadata": {},
     "execution_count": 15
    }
   ],
   "source": [
    "#get recent 3-month data\n",
    "df3M=df_video.set_index(\"pubDate\").sort_index().last(\"3M\")\n",
    "df3M.reset_index()\n",
    "df3M"
   ]
  },
  {
   "cell_type": "code",
   "execution_count": 16,
   "metadata": {},
   "outputs": [],
   "source": [
    "#extract number of videos from the last three months using above df\n",
    "chanvid=df3M.channelId.value_counts().rename_axis(\"channelId\").reset_index(name=\"3M_video\")\n",
    "chanvid=chanvid.fillna(value=0)"
   ]
  },
  {
   "cell_type": "code",
   "execution_count": 17,
   "metadata": {},
   "outputs": [
    {
     "output_type": "execute_result",
     "data": {
      "text/plain": "                    channelId  3M_viewCount  3M_likeCount  3M_dislikeCount  \\\n0    UC-8R1d-KQrZy_7-EvE_w9Nw       59039.0         196.0             12.0   \n1    UC-9nTjw_qHCA693UA3jyDWw        6827.0         465.0              7.0   \n2    UC-9oz6OofrZnaOUQ48-LavA      645573.0       14911.0            310.0   \n3    UC-AuHoBXFe2e6YQ3fcA2zFA        4125.0         190.0              2.0   \n4    UC-BqPABOl7c7rR5EoJJZ0UA     2797055.0      104170.0            419.0   \n..                        ...           ...           ...              ...   \n851  UCzU1v5rL8paTs1herRUgOTg        1060.0          38.0              0.0   \n852  UCzW0FveoY3_sTgBjvpG7Kwg       10553.0         819.0              1.0   \n853  UCzXNBo1PYNsqSrN19XK3hPw        2493.0          67.0              1.0   \n854  UCzacSE_ExLj6L5rXx2CakjQ       64198.0        5277.0             12.0   \n855  UCzte3fAK5m-9KswRH3SPNuA       16642.0         514.0             16.0   \n\n     3M_commentCount  \n0               27.0  \n1              119.0  \n2             1388.0  \n3                0.0  \n4            12426.0  \n..               ...  \n851              3.0  \n852            685.0  \n853              7.0  \n854            440.0  \n855             47.0  \n\n[856 rows x 5 columns]",
      "text/html": "<div>\n<style scoped>\n    .dataframe tbody tr th:only-of-type {\n        vertical-align: middle;\n    }\n\n    .dataframe tbody tr th {\n        vertical-align: top;\n    }\n\n    .dataframe thead th {\n        text-align: right;\n    }\n</style>\n<table border=\"1\" class=\"dataframe\">\n  <thead>\n    <tr style=\"text-align: right;\">\n      <th></th>\n      <th>channelId</th>\n      <th>3M_viewCount</th>\n      <th>3M_likeCount</th>\n      <th>3M_dislikeCount</th>\n      <th>3M_commentCount</th>\n    </tr>\n  </thead>\n  <tbody>\n    <tr>\n      <th>0</th>\n      <td>UC-8R1d-KQrZy_7-EvE_w9Nw</td>\n      <td>59039.0</td>\n      <td>196.0</td>\n      <td>12.0</td>\n      <td>27.0</td>\n    </tr>\n    <tr>\n      <th>1</th>\n      <td>UC-9nTjw_qHCA693UA3jyDWw</td>\n      <td>6827.0</td>\n      <td>465.0</td>\n      <td>7.0</td>\n      <td>119.0</td>\n    </tr>\n    <tr>\n      <th>2</th>\n      <td>UC-9oz6OofrZnaOUQ48-LavA</td>\n      <td>645573.0</td>\n      <td>14911.0</td>\n      <td>310.0</td>\n      <td>1388.0</td>\n    </tr>\n    <tr>\n      <th>3</th>\n      <td>UC-AuHoBXFe2e6YQ3fcA2zFA</td>\n      <td>4125.0</td>\n      <td>190.0</td>\n      <td>2.0</td>\n      <td>0.0</td>\n    </tr>\n    <tr>\n      <th>4</th>\n      <td>UC-BqPABOl7c7rR5EoJJZ0UA</td>\n      <td>2797055.0</td>\n      <td>104170.0</td>\n      <td>419.0</td>\n      <td>12426.0</td>\n    </tr>\n    <tr>\n      <th>...</th>\n      <td>...</td>\n      <td>...</td>\n      <td>...</td>\n      <td>...</td>\n      <td>...</td>\n    </tr>\n    <tr>\n      <th>851</th>\n      <td>UCzU1v5rL8paTs1herRUgOTg</td>\n      <td>1060.0</td>\n      <td>38.0</td>\n      <td>0.0</td>\n      <td>3.0</td>\n    </tr>\n    <tr>\n      <th>852</th>\n      <td>UCzW0FveoY3_sTgBjvpG7Kwg</td>\n      <td>10553.0</td>\n      <td>819.0</td>\n      <td>1.0</td>\n      <td>685.0</td>\n    </tr>\n    <tr>\n      <th>853</th>\n      <td>UCzXNBo1PYNsqSrN19XK3hPw</td>\n      <td>2493.0</td>\n      <td>67.0</td>\n      <td>1.0</td>\n      <td>7.0</td>\n    </tr>\n    <tr>\n      <th>854</th>\n      <td>UCzacSE_ExLj6L5rXx2CakjQ</td>\n      <td>64198.0</td>\n      <td>5277.0</td>\n      <td>12.0</td>\n      <td>440.0</td>\n    </tr>\n    <tr>\n      <th>855</th>\n      <td>UCzte3fAK5m-9KswRH3SPNuA</td>\n      <td>16642.0</td>\n      <td>514.0</td>\n      <td>16.0</td>\n      <td>47.0</td>\n    </tr>\n  </tbody>\n</table>\n<p>856 rows × 5 columns</p>\n</div>"
     },
     "metadata": {},
     "execution_count": 17
    }
   ],
   "source": [
    "#3 month outcomes together\n",
    "df3M_sum=df3M.groupby([\"channelId\"]).sum().reset_index()\n",
    "df3M_sum=df3M_sum.rename(columns={\"viewCount\":\"3M_viewCount\", \"likeCount\":\"3M_likeCount\", \"commentCount\":\"3M_commentCount\", \"dislikeCount\":\"3M_dislikeCount\"})\n",
    "df3M_sum=df3M_sum.fillna(value=0)\n",
    "df3M_sum"
   ]
  },
  {
   "cell_type": "code",
   "execution_count": 18,
   "metadata": {},
   "outputs": [
    {
     "output_type": "execute_result",
     "data": {
      "text/plain": "                  channelId      title       collectedTime category  \\\n0  UCkinYTS9IHqOEwR1Sze2JTw     SBS 뉴스 2020-07-25 17:40:42        T   \n1  UC6erIDuvbOaAO-OT5rB2Xew  SBS Drama 2020-07-25 17:40:42        T   \n2  UCt51IEo3ZxxOysVAG_ylR6w       찬이TV 2020-07-25 17:40:42        M   \n3  UCmJ4DkPFPzjR2TkJ7lXSQWw   YoonRoot 2020-07-25 17:40:42        M   \n4  UCPITXstDqqLYbBUiAVqYjfg      메이비TV 2020-07-25 17:40:42        M   \n\n  sub_category                                        description  \\\n0          TSB           시청자와 함께 만들어 가는 뉴스, SBS 뉴스의 공식 유튜브 채널입니다.   \n1          TSB  SBS 공식 드라마 채널 SBS Drama입니다! SBS의 드라마 프로그램을 클립별...   \n2          MSB              안녕하세요. 오신여러분들 반갑습니다. 좋은 컨텐츠로 찾아뵙겠습니다!   \n3          MSB              트위치 게임 스트리머 윤루트(YoonRoot)의 유튜브 채널입니다!   \n4          MSB  With Sandbox Network 펭귄 이글루 메이비의 유튜브 채널입니다. 트위...   \n\n                publishedAt  \\\n0 2014-05-02 10:13:29+00:00   \n1 2011-02-21 06:03:56+00:00   \n2 2014-06-27 06:53:48+00:00   \n3 2009-10-03 07:54:56+00:00   \n4 2012-07-05 15:45:23+00:00   \n\n                                        thumbnailUrl country   viewCount  ...  \\\n0  https://yt3.ggpht.com/a/AATXAJxqY68vNV1eQDp-pf...      KR  1303959116  ...   \n1  https://yt3.ggpht.com/a/AATXAJxjSa6BNQWag0Y-dW...      KR  3955084431  ...   \n2  https://yt3.ggpht.com/a/AATXAJyA7a2KZAtO1cOnWp...      KR   190499520  ...   \n3  https://yt3.ggpht.com/a/AATXAJwp4VzzB-oe6XAjaS...      KR    69377307  ...   \n4  https://yt3.ggpht.com/a/AATXAJwRcu0fU0O2Kae_J5...      KR    51425547  ...   \n\n   videoCount                                           keywords  \\\n0       84058  SBSNEWS sbs sbs뉴스 korea KOREA korea news\" \"kor...   \n1      338796                     SBS Drama 드라마 다시보기 월화 수목 일일 주말   \n2        1476                   마인크래프트 상황극 로블록스 minecraft roblox   \n3        1254  배그 하이라이트\" \"배틀그라운드 하이라이트\" 배그 윤루트 PUBG 배틀그라운드 ba...   \n4        1180                                그림 구체관절인형 노래 마인크래프트   \n\n   unsubscribedTrailer   likeCount dislikeCount 3M_video  3M_viewCount  \\\n0          P2HHAuxe3QM   6552226.0     635819.0   5389.0   142959983.0   \n1          RJ6ceHZAshI  11164151.0     640730.0    452.0    26766897.0   \n2          RzeaF5GPZII         NaN          NaN      NaN           NaN   \n3          -cXypjcg5xw         NaN          NaN      NaN           NaN   \n4          t9qux2AxkGs         NaN          NaN      NaN           NaN   \n\n   3M_likeCount  3M_dislikeCount  3M_commentCount  \n0     1013117.0          84934.0         756847.0  \n1      266359.0           5875.0          22722.0  \n2           NaN              NaN              NaN  \n3           NaN              NaN              NaN  \n4           NaN              NaN              NaN  \n\n[5 rows x 23 columns]",
      "text/html": "<div>\n<style scoped>\n    .dataframe tbody tr th:only-of-type {\n        vertical-align: middle;\n    }\n\n    .dataframe tbody tr th {\n        vertical-align: top;\n    }\n\n    .dataframe thead th {\n        text-align: right;\n    }\n</style>\n<table border=\"1\" class=\"dataframe\">\n  <thead>\n    <tr style=\"text-align: right;\">\n      <th></th>\n      <th>channelId</th>\n      <th>title</th>\n      <th>collectedTime</th>\n      <th>category</th>\n      <th>sub_category</th>\n      <th>description</th>\n      <th>publishedAt</th>\n      <th>thumbnailUrl</th>\n      <th>country</th>\n      <th>viewCount</th>\n      <th>...</th>\n      <th>videoCount</th>\n      <th>keywords</th>\n      <th>unsubscribedTrailer</th>\n      <th>likeCount</th>\n      <th>dislikeCount</th>\n      <th>3M_video</th>\n      <th>3M_viewCount</th>\n      <th>3M_likeCount</th>\n      <th>3M_dislikeCount</th>\n      <th>3M_commentCount</th>\n    </tr>\n  </thead>\n  <tbody>\n    <tr>\n      <th>0</th>\n      <td>UCkinYTS9IHqOEwR1Sze2JTw</td>\n      <td>SBS 뉴스</td>\n      <td>2020-07-25 17:40:42</td>\n      <td>T</td>\n      <td>TSB</td>\n      <td>시청자와 함께 만들어 가는 뉴스, SBS 뉴스의 공식 유튜브 채널입니다.</td>\n      <td>2014-05-02 10:13:29+00:00</td>\n      <td>https://yt3.ggpht.com/a/AATXAJxqY68vNV1eQDp-pf...</td>\n      <td>KR</td>\n      <td>1303959116</td>\n      <td>...</td>\n      <td>84058</td>\n      <td>SBSNEWS sbs sbs뉴스 korea KOREA korea news\" \"kor...</td>\n      <td>P2HHAuxe3QM</td>\n      <td>6552226.0</td>\n      <td>635819.0</td>\n      <td>5389.0</td>\n      <td>142959983.0</td>\n      <td>1013117.0</td>\n      <td>84934.0</td>\n      <td>756847.0</td>\n    </tr>\n    <tr>\n      <th>1</th>\n      <td>UC6erIDuvbOaAO-OT5rB2Xew</td>\n      <td>SBS Drama</td>\n      <td>2020-07-25 17:40:42</td>\n      <td>T</td>\n      <td>TSB</td>\n      <td>SBS 공식 드라마 채널 SBS Drama입니다! SBS의 드라마 프로그램을 클립별...</td>\n      <td>2011-02-21 06:03:56+00:00</td>\n      <td>https://yt3.ggpht.com/a/AATXAJxjSa6BNQWag0Y-dW...</td>\n      <td>KR</td>\n      <td>3955084431</td>\n      <td>...</td>\n      <td>338796</td>\n      <td>SBS Drama 드라마 다시보기 월화 수목 일일 주말</td>\n      <td>RJ6ceHZAshI</td>\n      <td>11164151.0</td>\n      <td>640730.0</td>\n      <td>452.0</td>\n      <td>26766897.0</td>\n      <td>266359.0</td>\n      <td>5875.0</td>\n      <td>22722.0</td>\n    </tr>\n    <tr>\n      <th>2</th>\n      <td>UCt51IEo3ZxxOysVAG_ylR6w</td>\n      <td>찬이TV</td>\n      <td>2020-07-25 17:40:42</td>\n      <td>M</td>\n      <td>MSB</td>\n      <td>안녕하세요. 오신여러분들 반갑습니다. 좋은 컨텐츠로 찾아뵙겠습니다!</td>\n      <td>2014-06-27 06:53:48+00:00</td>\n      <td>https://yt3.ggpht.com/a/AATXAJyA7a2KZAtO1cOnWp...</td>\n      <td>KR</td>\n      <td>190499520</td>\n      <td>...</td>\n      <td>1476</td>\n      <td>마인크래프트 상황극 로블록스 minecraft roblox</td>\n      <td>RzeaF5GPZII</td>\n      <td>NaN</td>\n      <td>NaN</td>\n      <td>NaN</td>\n      <td>NaN</td>\n      <td>NaN</td>\n      <td>NaN</td>\n      <td>NaN</td>\n    </tr>\n    <tr>\n      <th>3</th>\n      <td>UCmJ4DkPFPzjR2TkJ7lXSQWw</td>\n      <td>YoonRoot</td>\n      <td>2020-07-25 17:40:42</td>\n      <td>M</td>\n      <td>MSB</td>\n      <td>트위치 게임 스트리머 윤루트(YoonRoot)의 유튜브 채널입니다!</td>\n      <td>2009-10-03 07:54:56+00:00</td>\n      <td>https://yt3.ggpht.com/a/AATXAJwp4VzzB-oe6XAjaS...</td>\n      <td>KR</td>\n      <td>69377307</td>\n      <td>...</td>\n      <td>1254</td>\n      <td>배그 하이라이트\" \"배틀그라운드 하이라이트\" 배그 윤루트 PUBG 배틀그라운드 ba...</td>\n      <td>-cXypjcg5xw</td>\n      <td>NaN</td>\n      <td>NaN</td>\n      <td>NaN</td>\n      <td>NaN</td>\n      <td>NaN</td>\n      <td>NaN</td>\n      <td>NaN</td>\n    </tr>\n    <tr>\n      <th>4</th>\n      <td>UCPITXstDqqLYbBUiAVqYjfg</td>\n      <td>메이비TV</td>\n      <td>2020-07-25 17:40:42</td>\n      <td>M</td>\n      <td>MSB</td>\n      <td>With Sandbox Network 펭귄 이글루 메이비의 유튜브 채널입니다. 트위...</td>\n      <td>2012-07-05 15:45:23+00:00</td>\n      <td>https://yt3.ggpht.com/a/AATXAJwRcu0fU0O2Kae_J5...</td>\n      <td>KR</td>\n      <td>51425547</td>\n      <td>...</td>\n      <td>1180</td>\n      <td>그림 구체관절인형 노래 마인크래프트</td>\n      <td>t9qux2AxkGs</td>\n      <td>NaN</td>\n      <td>NaN</td>\n      <td>NaN</td>\n      <td>NaN</td>\n      <td>NaN</td>\n      <td>NaN</td>\n      <td>NaN</td>\n    </tr>\n  </tbody>\n</table>\n<p>5 rows × 23 columns</p>\n</div>"
     },
     "metadata": {},
     "execution_count": 18
    }
   ],
   "source": [
    "#merge to df_channel\n",
    "df_channel=pd.merge(df_channel, chanvid, how=\"outer\")\n",
    "df_channel=pd.merge(df_channel, df3M_sum, how=\"outer\")\n",
    "df_channel.head()"
   ]
  },
  {
   "cell_type": "code",
   "execution_count": 19,
   "metadata": {},
   "outputs": [
    {
     "output_type": "execute_result",
     "data": {
      "text/plain": "Index(['채널ID', '채널명', '수집일자', '분류1', '분류2', '채널설명', '채널생성일', '산출물수', '정기성',\n       '정량개선도', '구독자수', '총조회수', '총좋아요수', '총싫어요수', '총댓글수', 'MAU', '최근조회수',\n       '최근좋아요수', '최근싫어요수', '최근댓글수', '조회수개선도', '좋아요개선도', '댓글수개선도', '정성개선도'],\n      dtype='object')"
     },
     "metadata": {},
     "execution_count": 19
    }
   ],
   "source": [
    "#create final dataset\n",
    "df_channel_k=df_channel\n",
    "df_channel_k[\"산출물수\"]=df_channel[\"videoCount\"]\n",
    "df_channel_k[\"정기성\"]=df_channel[\"3M_video\"]\n",
    "df_channel_k[\"정량개선도\"]=(df_channel[\"3M_video\"])/(df_channel[\"videoCount\"])\n",
    "df_channel_k[\"구독자수\"]=df_channel.subscriberCount\n",
    "df_channel_k[\"총조회수\"]=df_channel.viewCount\n",
    "df_channel_k[\"총좋아요수\"]=df_channel.likeCount\n",
    "df_channel_k[\"총싫어요수\"]=df_channel.dislikeCount\n",
    "df_channel_k[\"총댓글수\"]=df_channel.commentCount\n",
    "df_channel_k[\"MAU\"]=(df_channel.viewCount)/(df_channel.subscriberCount)\n",
    "df_channel_k[\"최근조회수\"]=df_channel[\"3M_viewCount\"]\n",
    "df_channel_k[\"최근좋아요수\"]=df_channel[\"3M_likeCount\"]\n",
    "df_channel_k[\"최근싫어요수\"]=df_channel[\"3M_dislikeCount\"]\n",
    "df_channel_k[\"최근댓글수\"]=df_channel[\"3M_commentCount\"]\n",
    "df_channel_k[\"조회수개선도\"]=df_channel_k[\"최근조회수\"]/df_channel_k[\"총조회수\"]\n",
    "df_channel_k[\"좋아요개선도\"]=df_channel_k[\"최근좋아요수\"]/df_channel_k[\"총좋아요수\"]\n",
    "df_channel_k[\"댓글수개선도\"]=df_channel_k[\"최근댓글수\"]/df_channel_k[\"총댓글수\"]\n",
    "df_channel_k[\"정성개선도\"]=df_channel_k[\"조회수개선도\"]+df_channel_k[\"좋아요개선도\"]+df_channel_k[\"댓글수개선도\"]\n",
    "df_channel_k=df_channel_k.reset_index()\n",
    "df_channel_k=df_channel_k.drop(['index','thumbnailUrl', 'country', 'viewCount', 'commentCount', 'subscriberCount', 'hiddenSubscriberCount', 'videoCount', 'keywords', 'unsubscribedTrailer', 'likeCount', 'dislikeCount', '3M_video', \"3M_viewCount\", \"3M_likeCount\", \"3M_dislikeCount\",\"3M_commentCount\"], axis=1)\n",
    "df_channel_k=df_channel_k.rename(columns={\"channelId\":\"채널ID\", \"title\":\"채널명\", \"collectedTime\":\"수집일자\", \"category\":\"분류1\", \"sub_category\":\"분류2\", \"description\":\"채널설명\", \"publishedAt\":\"채널생성일\",\"hiddenSubscriberCount\":\"구독자숨김\"})\n",
    "df_channel_k.columns"
   ]
  },
  {
   "cell_type": "code",
   "execution_count": 20,
   "metadata": {},
   "outputs": [],
   "source": [
    "#\"P\" channels only\n",
    "dfP_ch=df_channel_k[df_channel_k[\"분류1\"]==\"P\"]\n",
    "dfP_vid=df_video[(df_video.channelId.isin(dfP_ch[\"분류1\"]))]\n",
    "#\"M\" channels only\n",
    "dfM_ch=df_channel_k[df_channel_k[\"분류1\"]==\"M\"]\n",
    "dfM_vid=df_video[(df_video.channelId.isin(dfM_ch[\"분류1\"]))]\n",
    "#\"T\" channels only\n",
    "dfT_ch=df_channel_k[df_channel_k[\"분류1\"]==\"T\"]\n",
    "dfT_vid=df_video[(df_video.channelId.isin(dfT_ch[\"분류1\"]))]\n",
    "# df3MP=df3M[(df3M.channelId.isin(dfP_ch[\"분류1\"]))]"
   ]
  },
  {
   "cell_type": "code",
   "execution_count": 21,
   "metadata": {},
   "outputs": [
    {
     "output_type": "execute_result",
     "data": {
      "text/plain": "                       채널ID        채널명                수집일자 분류1  분류2  \\\n0  UCkinYTS9IHqOEwR1Sze2JTw     SBS 뉴스 2020-07-25 17:40:42   T  TSB   \n1  UC6erIDuvbOaAO-OT5rB2Xew  SBS Drama 2020-07-25 17:40:42   T  TSB   \n2  UCt51IEo3ZxxOysVAG_ylR6w       찬이TV 2020-07-25 17:40:42   M  MSB   \n3  UCmJ4DkPFPzjR2TkJ7lXSQWw   YoonRoot 2020-07-25 17:40:42   M  MSB   \n4  UCPITXstDqqLYbBUiAVqYjfg      메이비TV 2020-07-25 17:40:42   M  MSB   \n\n                                                채널설명  \\\n0           시청자와 함께 만들어 가는 뉴스, SBS 뉴스의 공식 유튜브 채널입니다.   \n1  SBS 공식 드라마 채널 SBS Drama입니다! SBS의 드라마 프로그램을 클립별...   \n2              안녕하세요. 오신여러분들 반갑습니다. 좋은 컨텐츠로 찾아뵙겠습니다!   \n3              트위치 게임 스트리머 윤루트(YoonRoot)의 유튜브 채널입니다!   \n4  With Sandbox Network 펭귄 이글루 메이비의 유튜브 채널입니다. 트위...   \n\n                      채널생성일    산출물수     정기성     정량개선도  ...  구독자수_Tscore  \\\n0 2014-05-02 10:13:29+00:00   84058  5389.0  0.064110  ...   102.174050   \n1 2011-02-21 06:03:56+00:00  338796   452.0  0.001334  ...   115.103331   \n2 2014-06-27 06:53:48+00:00    1476     NaN       NaN  ...   100.112507   \n3 2009-10-03 07:54:56+00:00    1254     NaN       NaN  ...    99.377981   \n4 2012-07-05 15:45:23+00:00    1180     NaN       NaN  ...    99.195364   \n\n   총조회수_Tscore  총좋아요수_Tscore  총싫어요수_Tscore  총댓글수_Tscore  MAU_Tscore  \\\n0   107.204689    103.591951    116.731778          NaN         NaN   \n1   123.957195    107.192851    116.877430          NaN         NaN   \n2   100.168719           NaN           NaN          NaN         NaN   \n3    99.403345           NaN           NaN          NaN         NaN   \n4    99.289908           NaN           NaN          NaN         NaN   \n\n   최근조회수_Tscore  최근좋아요수_Tscore  최근싫어요수_Tscore  최근댓글수_Tscore  \n0    151.117933     109.053704     134.572203    169.174131  \n1    107.522355     101.197689     100.741501    100.325217  \n2           NaN            NaN            NaN           NaN  \n3           NaN            NaN            NaN           NaN  \n4           NaN            NaN            NaN           NaN  \n\n[5 rows x 37 columns]",
      "text/html": "<div>\n<style scoped>\n    .dataframe tbody tr th:only-of-type {\n        vertical-align: middle;\n    }\n\n    .dataframe tbody tr th {\n        vertical-align: top;\n    }\n\n    .dataframe thead th {\n        text-align: right;\n    }\n</style>\n<table border=\"1\" class=\"dataframe\">\n  <thead>\n    <tr style=\"text-align: right;\">\n      <th></th>\n      <th>채널ID</th>\n      <th>채널명</th>\n      <th>수집일자</th>\n      <th>분류1</th>\n      <th>분류2</th>\n      <th>채널설명</th>\n      <th>채널생성일</th>\n      <th>산출물수</th>\n      <th>정기성</th>\n      <th>정량개선도</th>\n      <th>...</th>\n      <th>구독자수_Tscore</th>\n      <th>총조회수_Tscore</th>\n      <th>총좋아요수_Tscore</th>\n      <th>총싫어요수_Tscore</th>\n      <th>총댓글수_Tscore</th>\n      <th>MAU_Tscore</th>\n      <th>최근조회수_Tscore</th>\n      <th>최근좋아요수_Tscore</th>\n      <th>최근싫어요수_Tscore</th>\n      <th>최근댓글수_Tscore</th>\n    </tr>\n  </thead>\n  <tbody>\n    <tr>\n      <th>0</th>\n      <td>UCkinYTS9IHqOEwR1Sze2JTw</td>\n      <td>SBS 뉴스</td>\n      <td>2020-07-25 17:40:42</td>\n      <td>T</td>\n      <td>TSB</td>\n      <td>시청자와 함께 만들어 가는 뉴스, SBS 뉴스의 공식 유튜브 채널입니다.</td>\n      <td>2014-05-02 10:13:29+00:00</td>\n      <td>84058</td>\n      <td>5389.0</td>\n      <td>0.064110</td>\n      <td>...</td>\n      <td>102.174050</td>\n      <td>107.204689</td>\n      <td>103.591951</td>\n      <td>116.731778</td>\n      <td>NaN</td>\n      <td>NaN</td>\n      <td>151.117933</td>\n      <td>109.053704</td>\n      <td>134.572203</td>\n      <td>169.174131</td>\n    </tr>\n    <tr>\n      <th>1</th>\n      <td>UC6erIDuvbOaAO-OT5rB2Xew</td>\n      <td>SBS Drama</td>\n      <td>2020-07-25 17:40:42</td>\n      <td>T</td>\n      <td>TSB</td>\n      <td>SBS 공식 드라마 채널 SBS Drama입니다! SBS의 드라마 프로그램을 클립별...</td>\n      <td>2011-02-21 06:03:56+00:00</td>\n      <td>338796</td>\n      <td>452.0</td>\n      <td>0.001334</td>\n      <td>...</td>\n      <td>115.103331</td>\n      <td>123.957195</td>\n      <td>107.192851</td>\n      <td>116.877430</td>\n      <td>NaN</td>\n      <td>NaN</td>\n      <td>107.522355</td>\n      <td>101.197689</td>\n      <td>100.741501</td>\n      <td>100.325217</td>\n    </tr>\n    <tr>\n      <th>2</th>\n      <td>UCt51IEo3ZxxOysVAG_ylR6w</td>\n      <td>찬이TV</td>\n      <td>2020-07-25 17:40:42</td>\n      <td>M</td>\n      <td>MSB</td>\n      <td>안녕하세요. 오신여러분들 반갑습니다. 좋은 컨텐츠로 찾아뵙겠습니다!</td>\n      <td>2014-06-27 06:53:48+00:00</td>\n      <td>1476</td>\n      <td>NaN</td>\n      <td>NaN</td>\n      <td>...</td>\n      <td>100.112507</td>\n      <td>100.168719</td>\n      <td>NaN</td>\n      <td>NaN</td>\n      <td>NaN</td>\n      <td>NaN</td>\n      <td>NaN</td>\n      <td>NaN</td>\n      <td>NaN</td>\n      <td>NaN</td>\n    </tr>\n    <tr>\n      <th>3</th>\n      <td>UCmJ4DkPFPzjR2TkJ7lXSQWw</td>\n      <td>YoonRoot</td>\n      <td>2020-07-25 17:40:42</td>\n      <td>M</td>\n      <td>MSB</td>\n      <td>트위치 게임 스트리머 윤루트(YoonRoot)의 유튜브 채널입니다!</td>\n      <td>2009-10-03 07:54:56+00:00</td>\n      <td>1254</td>\n      <td>NaN</td>\n      <td>NaN</td>\n      <td>...</td>\n      <td>99.377981</td>\n      <td>99.403345</td>\n      <td>NaN</td>\n      <td>NaN</td>\n      <td>NaN</td>\n      <td>NaN</td>\n      <td>NaN</td>\n      <td>NaN</td>\n      <td>NaN</td>\n      <td>NaN</td>\n    </tr>\n    <tr>\n      <th>4</th>\n      <td>UCPITXstDqqLYbBUiAVqYjfg</td>\n      <td>메이비TV</td>\n      <td>2020-07-25 17:40:42</td>\n      <td>M</td>\n      <td>MSB</td>\n      <td>With Sandbox Network 펭귄 이글루 메이비의 유튜브 채널입니다. 트위...</td>\n      <td>2012-07-05 15:45:23+00:00</td>\n      <td>1180</td>\n      <td>NaN</td>\n      <td>NaN</td>\n      <td>...</td>\n      <td>99.195364</td>\n      <td>99.289908</td>\n      <td>NaN</td>\n      <td>NaN</td>\n      <td>NaN</td>\n      <td>NaN</td>\n      <td>NaN</td>\n      <td>NaN</td>\n      <td>NaN</td>\n      <td>NaN</td>\n    </tr>\n  </tbody>\n</table>\n<p>5 rows × 37 columns</p>\n</div>"
     },
     "metadata": {},
     "execution_count": 21
    }
   ],
   "source": [
    "#create standardized score\n",
    "Tcols=['산출물수', '정기성', '정량개선도', '구독자수', '총조회수', '총좋아요수', '총싫어요수', '총댓글수', 'MAU', '최근조회수', '최근좋아요수', '최근싫어요수', '최근댓글수']#columns for T-score generation\n",
    "for item in Tcols:\n",
    "    item_Tscore=item+\"_Tscore\"\n",
    "    df_channel_k[item_Tscore]=100+10*((df_channel_k[item] - df_channel_k[item].mean())/(df_channel_k[item].std()))#T-score=100+10z\n",
    "df_channel_k.head()"
   ]
  },
  {
   "cell_type": "code",
   "execution_count": 22,
   "metadata": {},
   "outputs": [
    {
     "output_type": "execute_result",
     "data": {
      "text/plain": "Index(['채널ID', '채널명', '수집일자', '분류1', '분류2', '채널설명', '채널생성일', '산출물수', '정기성',\n       '정량개선도', '구독자수', '총조회수', '총좋아요수', '총싫어요수', '총댓글수', 'MAU', '최근조회수',\n       '최근좋아요수', '최근싫어요수', '최근댓글수', '조회수개선도', '좋아요개선도', '댓글수개선도', '정성개선도',\n       '산출물수_Tscore', '정기성_Tscore', '정량개선도_Tscore', '구독자수_Tscore',\n       '총조회수_Tscore', '총좋아요수_Tscore', '총싫어요수_Tscore', '총댓글수_Tscore',\n       'MAU_Tscore', '최근조회수_Tscore', '최근좋아요수_Tscore', '최근싫어요수_Tscore',\n       '최근댓글수_Tscore'],\n      dtype='object')"
     },
     "metadata": {},
     "execution_count": 22
    }
   ],
   "source": [
    "df_channel_k.columns"
   ]
  },
  {
   "cell_type": "code",
   "execution_count": 23,
   "metadata": {},
   "outputs": [],
   "source": [
    "#calculate scores using T-scores\n",
    "df_channel_k[\"MAU_Tscore\"]=(df_channel_k[\"총조회수_Tscore\"])/(df_channel_k[\"구독자수_Tscore\"])\n",
    "df_channel_k[\"정량개선도_Tscore\"]=(df_channel_k[\"정기성_Tscore\"])/(df_channel_k[\"산출물수_Tscore\"])\n",
    "df_channel_k[\"조회수개선도_Tscore\"]=df_channel_k[\"최근조회수_Tscore\"]/df_channel_k[\"총조회수_Tscore\"]\n",
    "df_channel_k[\"좋아요개선도_Tscore\"]=df_channel_k[\"최근좋아요수_Tscore\"]/df_channel_k[\"총좋아요수_Tscore\"]\n",
    "df_channel_k[\"댓글수개선도_Tscore\"]=df_channel_k[\"최근댓글수_Tscore\"]/df_channel_k[\"총댓글수_Tscore\"]"
   ]
  },
  {
   "cell_type": "code",
   "execution_count": 24,
   "metadata": {},
   "outputs": [
    {
     "output_type": "execute_result",
     "data": {
      "text/plain": "Index(['채널ID', '채널명', '수집일자', '분류1', '분류2', '채널설명', '채널생성일', '산출물수', '정기성',\n       '정량개선도', '구독자수', '총조회수', '총좋아요수', '총싫어요수', '총댓글수', 'MAU', '최근조회수',\n       '최근좋아요수', '최근싫어요수', '최근댓글수', '조회수개선도', '좋아요개선도', '댓글수개선도', '정성개선도',\n       '산출물수_Tscore', '정기성_Tscore', '정량개선도_Tscore', '구독자수_Tscore',\n       '총조회수_Tscore', '총좋아요수_Tscore', '총싫어요수_Tscore', '총댓글수_Tscore',\n       'MAU_Tscore', '최근조회수_Tscore', '최근좋아요수_Tscore', '최근싫어요수_Tscore',\n       '최근댓글수_Tscore', '조회수개선도_Tscore', '좋아요개선도_Tscore', '댓글수개선도_Tscore'],\n      dtype='object')"
     },
     "metadata": {},
     "execution_count": 24
    }
   ],
   "source": [
    "#code NA into 0\n",
    "df_channel_k.fillna(0, inplace=True)\n",
    "df_channel_k.columns"
   ]
  },
  {
   "cell_type": "code",
   "execution_count": 25,
   "metadata": {},
   "outputs": [],
   "source": [
    "df_channel_k[\"정성개선도_Tscore\"]=df_channel_k[\"조회수개선도_Tscore\"]+df_channel_k[\"좋아요개선도_Tscore\"]+df_channel_k[\"댓글수개선도_Tscore\"]"
   ]
  },
  {
   "cell_type": "code",
   "execution_count": 26,
   "metadata": {},
   "outputs": [],
   "source": [
    "df_channel_k.to_csv(\"종합홍보지수.csv\", sep=\"|\")"
   ]
  }
 ]
}